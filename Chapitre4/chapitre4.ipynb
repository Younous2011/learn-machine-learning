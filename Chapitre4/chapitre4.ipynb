{
 "cells": [
  {
   "cell_type": "markdown",
   "metadata": {},
   "source": [
    "# Vecteurs"
   ]
  },
  {
   "cell_type": "code",
   "execution_count": 149,
   "metadata": {},
   "outputs": [],
   "source": [
    "import numpy as np"
   ]
  },
  {
   "cell_type": "code",
   "execution_count": 150,
   "metadata": {},
   "outputs": [],
   "source": [
    "teta = np.array([1, 3, 8])\n",
    "x = np.array([5, 8, 25])"
   ]
  },
  {
   "cell_type": "code",
   "execution_count": 151,
   "metadata": {},
   "outputs": [
    {
     "data": {
      "text/plain": [
       "array([  5,  24, 200])"
      ]
     },
     "execution_count": 151,
     "metadata": {},
     "output_type": "execute_result"
    }
   ],
   "source": [
    "teta * x"
   ]
  },
  {
   "cell_type": "code",
   "execution_count": 152,
   "metadata": {},
   "outputs": [
    {
     "data": {
      "text/plain": [
       "229"
      ]
     },
     "execution_count": 152,
     "metadata": {},
     "output_type": "execute_result"
    }
   ],
   "source": [
    "np.dot(teta, x)"
   ]
  },
  {
   "cell_type": "code",
   "execution_count": 153,
   "metadata": {},
   "outputs": [
    {
     "data": {
      "text/plain": [
       "257"
      ]
     },
     "execution_count": 153,
     "metadata": {},
     "output_type": "execute_result"
    }
   ],
   "source": [
    "y = np.dot(teta, x) + 28\n",
    "y"
   ]
  },
  {
   "cell_type": "code",
   "execution_count": 154,
   "metadata": {},
   "outputs": [],
   "source": [
    "def h(x):\n",
    "    teta = np.array([1, 3, 8])\n",
    "    teta0 = 28\n",
    "    y = np.dot(teta, x) + teta0\n",
    "    return y"
   ]
  },
  {
   "cell_type": "code",
   "execution_count": 155,
   "metadata": {},
   "outputs": [
    {
     "data": {
      "text/plain": [
       "257"
      ]
     },
     "execution_count": 155,
     "metadata": {},
     "output_type": "execute_result"
    }
   ],
   "source": [
    "h(x)"
   ]
  },
  {
   "cell_type": "code",
   "execution_count": 156,
   "metadata": {},
   "outputs": [
    {
     "data": {
      "text/plain": [
       "array([3, 4, 6])"
      ]
     },
     "execution_count": 156,
     "metadata": {},
     "output_type": "execute_result"
    }
   ],
   "source": [
    "y2 = np.array([3, 4])\n",
    "np.append(y2, [6])"
   ]
  },
  {
   "cell_type": "code",
   "execution_count": 157,
   "metadata": {},
   "outputs": [],
   "source": [
    "def h2(x):\n",
    "    x_ = np.append(x, [1])\n",
    "    teta = np.array([1, 3, 8, 28])\n",
    "    y = np.dot(x_, teta)\n",
    "    return y"
   ]
  },
  {
   "cell_type": "code",
   "execution_count": 158,
   "metadata": {},
   "outputs": [
    {
     "data": {
      "text/plain": [
       "257"
      ]
     },
     "execution_count": 158,
     "metadata": {},
     "output_type": "execute_result"
    }
   ],
   "source": [
    "h2(x)"
   ]
  },
  {
   "cell_type": "markdown",
   "metadata": {},
   "source": [
    "# MSE"
   ]
  },
  {
   "cell_type": "code",
   "execution_count": 159,
   "metadata": {},
   "outputs": [],
   "source": [
    "def h(x):\n",
    "    teta = np.array([1, 3, 8])\n",
    "    teta0 = 28\n",
    "    y = np.dot(teta, x) + teta0\n",
    "    return y"
   ]
  },
  {
   "cell_type": "code",
   "execution_count": 160,
   "metadata": {},
   "outputs": [],
   "source": [
    "X_test = np.array([\n",
    "    [1, 3, 6],\n",
    "    [-1, 2, -2],\n",
    "    [0, 0, 3],\n",
    "    [3, 3, 3]\n",
    "])\n",
    "\n",
    "y_test = np.array([78, 15, 55, 60])"
   ]
  },
  {
   "cell_type": "code",
   "execution_count": 161,
   "metadata": {},
   "outputs": [
    {
     "data": {
      "text/plain": [
       "array([86, 17, 52, 64])"
      ]
     },
     "execution_count": 161,
     "metadata": {},
     "output_type": "execute_result"
    }
   ],
   "source": [
    "h(X_test.T)"
   ]
  },
  {
   "cell_type": "code",
   "execution_count": 162,
   "metadata": {},
   "outputs": [],
   "source": [
    "y_predict = h(X_test.T)"
   ]
  },
  {
   "cell_type": "code",
   "execution_count": 163,
   "metadata": {},
   "outputs": [
    {
     "name": "stdout",
     "output_type": "stream",
     "text": [
      "[86 17 52 64] [78 15 55 60]\n"
     ]
    }
   ],
   "source": [
    "print(y_predict, y_test)"
   ]
  },
  {
   "cell_type": "code",
   "execution_count": 164,
   "metadata": {},
   "outputs": [],
   "source": [
    "mse = ((86 - 78)**2 + (17 - 15)**2 + (55 - 52)**2 + (60 - 64)**2)/ 4"
   ]
  },
  {
   "cell_type": "code",
   "execution_count": 165,
   "metadata": {},
   "outputs": [],
   "source": [
    "rmse = np.sqrt(mse)"
   ]
  },
  {
   "cell_type": "code",
   "execution_count": 166,
   "metadata": {},
   "outputs": [
    {
     "name": "stdout",
     "output_type": "stream",
     "text": [
      "23.25 4.8218253804964775\n"
     ]
    }
   ],
   "source": [
    "print(mse, rmse)"
   ]
  },
  {
   "cell_type": "code",
   "execution_count": 167,
   "metadata": {},
   "outputs": [
    {
     "data": {
      "text/plain": [
       "23.25"
      ]
     },
     "execution_count": 167,
     "metadata": {},
     "output_type": "execute_result"
    }
   ],
   "source": [
    "np.mean((y_predict - y_test)**2)"
   ]
  },
  {
   "cell_type": "code",
   "execution_count": 168,
   "metadata": {},
   "outputs": [],
   "source": [
    "def mse_fn(y_predict, y_test):\n",
    "    return np.mean((y_predict - y_test)**2)"
   ]
  },
  {
   "cell_type": "code",
   "execution_count": 169,
   "metadata": {},
   "outputs": [],
   "source": [
    "def rmse_fn(y_predict, y_test):\n",
    "    return np.sqrt(np.mean((y_predict - y_test)**2))"
   ]
  },
  {
   "cell_type": "code",
   "execution_count": 170,
   "metadata": {},
   "outputs": [
    {
     "data": {
      "text/plain": [
       "23.25"
      ]
     },
     "execution_count": 170,
     "metadata": {},
     "output_type": "execute_result"
    }
   ],
   "source": [
    "mse_fn(y_predict, y_test)"
   ]
  },
  {
   "cell_type": "code",
   "execution_count": 171,
   "metadata": {},
   "outputs": [
    {
     "data": {
      "text/plain": [
       "4.8218253804964775"
      ]
     },
     "execution_count": 171,
     "metadata": {},
     "output_type": "execute_result"
    }
   ],
   "source": [
    "rmse_fn(y_predict, y_test)"
   ]
  },
  {
   "cell_type": "markdown",
   "metadata": {},
   "source": [
    "# Linear regression"
   ]
  },
  {
   "cell_type": "code",
   "execution_count": null,
   "metadata": {},
   "outputs": [],
   "source": []
  },
  {
   "cell_type": "code",
   "execution_count": 172,
   "metadata": {},
   "outputs": [],
   "source": [
    "import numpy as np\n",
    "X = 2 * np.random.rand(100, 1)\n",
    "y = 4 + 3 * X + np.random.randn(100, 1)"
   ]
  },
  {
   "cell_type": "code",
   "execution_count": 173,
   "metadata": {},
   "outputs": [
    {
     "data": {
      "text/plain": [
       "<matplotlib.collections.PathCollection at 0x7fd6ba1d40d0>"
      ]
     },
     "execution_count": 173,
     "metadata": {},
     "output_type": "execute_result"
    },
    {
     "data": {
      "image/png": "[encoded data removed]",
      "text/plain": [
       "<Figure size 432x288 with 1 Axes>"
      ]
     },
     "metadata": {
      "needs_background": "light"
     },
     "output_type": "display_data"
    }
   ],
   "source": [
    "import matplotlib.pyplot as plt\n",
    "plt.scatter(X, y)"
   ]
  },
  {
   "cell_type": "code",
   "execution_count": 176,
   "metadata": {},
   "outputs": [
    {
     "name": "stdout",
     "output_type": "stream",
     "text": [
      "[[1.03407807]\n",
      " [1.1170192 ]\n",
      " [1.17381236]\n",
      " [1.17331611]\n",
      " [1.81210542]\n",
      " [1.08976457]\n",
      " [0.94880528]\n",
      " [1.61207814]\n",
      " [1.72187219]\n",
      " [0.95819088]]\n"
     ]
    }
   ],
   "source": [
    "print(X[:10])"
   ]
  },
  {
   "cell_type": "code",
   "execution_count": 177,
   "metadata": {},
   "outputs": [
    {
     "name": "stdout",
     "output_type": "stream",
     "text": [
      "[[ 6.65078695]\n",
      " [ 6.97622614]\n",
      " [ 8.20899594]\n",
      " [ 6.54733742]\n",
      " [ 7.85333415]\n",
      " [ 7.68365949]\n",
      " [ 4.54595959]\n",
      " [10.036885  ]\n",
      " [ 7.57711741]\n",
      " [ 8.31261353]]\n"
     ]
    }
   ],
   "source": [
    "print(y[:10])"
   ]
  },
  {
   "cell_type": "code",
   "execution_count": 178,
   "metadata": {},
   "outputs": [
    {
     "data": {
      "text/plain": [
       "(array([3.87710202]), array([[3.08567368]]))"
      ]
     },
     "execution_count": 178,
     "metadata": {},
     "output_type": "execute_result"
    }
   ],
   "source": [
    "from sklearn.linear_model import LinearRegression\n",
    "lin_reg = LinearRegression()\n",
    "lin_reg.fit(X, y)\n",
    "lin_reg.intercept_, lin_reg.coef_"
   ]
  },
  {
   "cell_type": "code",
   "execution_count": 179,
   "metadata": {},
   "outputs": [
    {
     "data": {
      "text/plain": [
       "array([[ 3.87710202],\n",
       "       [10.04844939]])"
      ]
     },
     "execution_count": 179,
     "metadata": {},
     "output_type": "execute_result"
    }
   ],
   "source": [
    "X_new = np.array([[0], [2]])\n",
    "y_predict = lin_reg.predict(X_new)\n",
    "y_predict"
   ]
  },
  {
   "cell_type": "code",
   "execution_count": 180,
   "metadata": {},
   "outputs": [
    {
     "data": {
      "image/png": "[encoded data removed]",
      "text/plain": [
       "<Figure size 432x288 with 1 Axes>"
      ]
     },
     "metadata": {
      "needs_background": "light"
     },
     "output_type": "display_data"
    }
   ],
   "source": [
    "plt.plot(X_new, y_predict, \"r-\")\n",
    "plt.plot(X, y, \"b.\")\n",
    "plt.show()"
   ]
  },
  {
   "cell_type": "markdown",
   "metadata": {},
   "source": [
    "## Exemple profit par population de ville"
   ]
  },
  {
   "cell_type": "code",
   "execution_count": 181,
   "metadata": {},
   "outputs": [],
   "source": [
    "import pandas as pd"
   ]
  },
  {
   "cell_type": "code",
   "execution_count": 182,
   "metadata": {},
   "outputs": [
    {
     "data": {
      "text/html": [
       "<div>\n",
       "<style scoped>\n",
       "    .dataframe tbody tr th:only-of-type {\n",
       "        vertical-align: middle;\n",
       "    }\n",
       "\n",
       "    .dataframe tbody tr th {\n",
       "        vertical-align: top;\n",
       "    }\n",
       "\n",
       "    .dataframe thead th {\n",
       "        text-align: right;\n",
       "    }\n",
       "</style>\n",
       "<table border=\"1\" class=\"dataframe\">\n",
       "  <thead>\n",
       "    <tr style=\"text-align: right;\">\n",
       "      <th></th>\n",
       "      <th>population_en_10k</th>\n",
       "      <th>revenu_en_10k$</th>\n",
       "    </tr>\n",
       "  </thead>\n",
       "  <tbody>\n",
       "    <tr>\n",
       "      <th>0</th>\n",
       "      <td>6.1101</td>\n",
       "      <td>17.5920</td>\n",
       "    </tr>\n",
       "    <tr>\n",
       "      <th>1</th>\n",
       "      <td>5.5277</td>\n",
       "      <td>9.1302</td>\n",
       "    </tr>\n",
       "    <tr>\n",
       "      <th>2</th>\n",
       "      <td>8.5186</td>\n",
       "      <td>13.6620</td>\n",
       "    </tr>\n",
       "    <tr>\n",
       "      <th>3</th>\n",
       "      <td>7.0032</td>\n",
       "      <td>11.8540</td>\n",
       "    </tr>\n",
       "    <tr>\n",
       "      <th>4</th>\n",
       "      <td>5.8598</td>\n",
       "      <td>6.8233</td>\n",
       "    </tr>\n",
       "  </tbody>\n",
       "</table>\n",
       "</div>"
      ],
      "text/plain": [
       "   population_en_10k  revenu_en_10k$\n",
       "0             6.1101         17.5920\n",
       "1             5.5277          9.1302\n",
       "2             8.5186         13.6620\n",
       "3             7.0032         11.8540\n",
       "4             5.8598          6.8233"
      ]
     },
     "execution_count": 182,
     "metadata": {},
     "output_type": "execute_result"
    }
   ],
   "source": [
    "df = pd.read_csv(\n",
    "    \"data/univariate_linear_regression_dataset.csv\",\n",
    "    header=None,\n",
    "    names=[\n",
    "        \"population_en_10k\",\n",
    "        \"revenu_en_10k$\"\n",
    "    ]\n",
    ")\n",
    "df.head()"
   ]
  },
  {
   "cell_type": "code",
   "execution_count": 183,
   "metadata": {},
   "outputs": [
    {
     "data": {
      "text/plain": [
       "(97, 2)"
      ]
     },
     "execution_count": 183,
     "metadata": {},
     "output_type": "execute_result"
    }
   ],
   "source": [
    "df.shape"
   ]
  },
  {
   "cell_type": "code",
   "execution_count": 184,
   "metadata": {},
   "outputs": [],
   "source": [
    "X_train = df.loc[:90, [\"population_en_10k\"]].to_numpy()\n",
    "X_test = df.loc[90:, [\"population_en_10k\"]].to_numpy()\n",
    "\n",
    "y_train = df.loc[:90, [\"revenu_en_10k$\"]].to_numpy()\n",
    "y_test = df.loc[90:, [\"revenu_en_10k$\"]].to_numpy()"
   ]
  },
  {
   "cell_type": "code",
   "execution_count": 185,
   "metadata": {},
   "outputs": [
    {
     "data": {
      "text/plain": [
       "array([[ 5.7077],\n",
       "       [ 7.6366],\n",
       "       [ 5.8707],\n",
       "       [ 5.3054],\n",
       "       [ 8.2934],\n",
       "       [13.394 ],\n",
       "       [ 5.4369]])"
      ]
     },
     "execution_count": 185,
     "metadata": {},
     "output_type": "execute_result"
    }
   ],
   "source": [
    "X_test"
   ]
  },
  {
   "cell_type": "code",
   "execution_count": 186,
   "metadata": {},
   "outputs": [
    {
     "data": {
      "text/plain": [
       "(array([-3.91621878]), array([[1.20642909]]))"
      ]
     },
     "execution_count": 186,
     "metadata": {},
     "output_type": "execute_result"
    }
   ],
   "source": [
    "from sklearn.linear_model import LinearRegression\n",
    "lin_reg_p = LinearRegression()\n",
    "lin_reg_p.fit(X_train, y_train)\n",
    "lin_reg_p.intercept_, lin_reg_p.coef_"
   ]
  },
  {
   "cell_type": "code",
   "execution_count": 187,
   "metadata": {},
   "outputs": [],
   "source": [
    "y_predict = lin_reg_p.predict(X_test)"
   ]
  },
  {
   "cell_type": "code",
   "execution_count": 188,
   "metadata": {},
   "outputs": [
    {
     "data": {
      "text/plain": [
       "(array([[ 2.96971656],\n",
       "        [ 5.29679764],\n",
       "        [ 3.16636451],\n",
       "        [ 2.48437014],\n",
       "        [ 6.08918027],\n",
       "        [12.24269252],\n",
       "        [ 2.64301556]]),\n",
       " array([[1.8451 ],\n",
       "        [4.2959 ],\n",
       "        [7.2029 ],\n",
       "        [1.9869 ],\n",
       "        [0.14454],\n",
       "        [9.0551 ],\n",
       "        [0.61705]]))"
      ]
     },
     "execution_count": 188,
     "metadata": {},
     "output_type": "execute_result"
    }
   ],
   "source": [
    "y_predict, y_test"
   ]
  },
  {
   "cell_type": "code",
   "execution_count": 189,
   "metadata": {},
   "outputs": [],
   "source": [
    "X_droite = np.array([[0], [25]])\n",
    "y_droite = lin_reg_p.predict(X_droite)"
   ]
  },
  {
   "cell_type": "code",
   "execution_count": 192,
   "metadata": {},
   "outputs": [
    {
     "name": "stderr",
     "output_type": "stream",
     "text": [
      "/tmp/ipykernel_10645/903653442.py:2: UserWarning: color is redundantly defined by the 'color' keyword argument and the fmt string \"b.\" (-> color='b'). The keyword argument will take precedence.\n",
      "  plt.plot(X_train, y_train, \"b.\", color=\"red\");\n",
      "/tmp/ipykernel_10645/903653442.py:3: UserWarning: color is redundantly defined by the 'color' keyword argument and the fmt string \"b.\" (-> color='b'). The keyword argument will take precedence.\n",
      "  plt.plot(X_test, y_test, \"b.\", color=\"blue\");\n",
      "/tmp/ipykernel_10645/903653442.py:4: UserWarning: color is redundantly defined by the 'color' keyword argument and the fmt string \"b.\" (-> color='b'). The keyword argument will take precedence.\n",
      "  plt.plot(X_test, y_predict, \"b.\", color=\"green\");\n",
      "/tmp/ipykernel_10645/903653442.py:5: UserWarning: color is redundantly defined by the 'color' keyword argument and the fmt string \"r-\" (-> color='r'). The keyword argument will take precedence.\n",
      "  plt.plot(X_droite, y_droite, \"r-\", color=\"black\");\n"
     ]
    },
    {
     "data": {
      "image/png": "[encoded data removed]",
      "text/plain": [
       "<Figure size 720x360 with 1 Axes>"
      ]
     },
     "metadata": {
      "needs_background": "light"
     },
     "output_type": "display_data"
    }
   ],
   "source": [
    "plt.figure(figsize=(10, 5))\n",
    "plt.plot(X_train, y_train, \"b.\", color=\"red\");\n",
    "plt.plot(X_test, y_test, \"b.\", color=\"blue\");\n",
    "plt.plot(X_test, y_predict, \"b.\", color=\"green\");\n",
    "plt.plot(X_droite, y_droite, \"r-\", color=\"black\");\n",
    "plt.show();"
   ]
  },
  {
   "cell_type": "code",
   "execution_count": 193,
   "metadata": {},
   "outputs": [
    {
     "data": {
      "text/plain": [
       "9.77309776327056"
      ]
     },
     "execution_count": 193,
     "metadata": {},
     "output_type": "execute_result"
    }
   ],
   "source": [
    "mse_fn(y_predict, y_test)"
   ]
  },
  {
   "cell_type": "code",
   "execution_count": 194,
   "metadata": {},
   "outputs": [
    {
     "data": {
      "text/plain": [
       "3.126195413481147"
      ]
     },
     "execution_count": 194,
     "metadata": {},
     "output_type": "execute_result"
    }
   ],
   "source": [
    "rmse_fn(y_predict, y_test)"
   ]
  },
  {
   "cell_type": "markdown",
   "metadata": {},
   "source": [
    "# Body data"
   ]
  },
  {
   "cell_type": "code",
   "execution_count": 197,
   "metadata": {},
   "outputs": [],
   "source": [
    "import pandas as pd\n",
    "\n",
    "dtype = {\n",
    "    \"bia_di\": float,\n",
    "    \"bii_di\": float,\n",
    "    \"bit_di\": float,\n",
    "    \"che_de\": float,\n",
    "    \"che_di\": float,\n",
    "    \"elb_di\": float,\n",
    "    \"wri_di\": float,\n",
    "    \"kne_di\": float,\n",
    "    \"ank_di\": float,\n",
    "    \"sho_gi\": float,\n",
    "    \"che_gi\": float,\n",
    "    \"wai_gi\": float,\n",
    "    \"nav_gi\": float,\n",
    "    \"hip_gi\": float,\n",
    "    \"thi_gi\": float,\n",
    "    \"bic_gi\": float,\n",
    "    \"for_gi\": float,\n",
    "    \"kne_gi\": float,\n",
    "    \"cal_gi\": float,\n",
    "    \"ank_gi\": float,\n",
    "    \"wri_gi\": float,\n",
    "    \"age\": float,\n",
    "    \"wgt\": float,\n",
    "    \"hgt\": float,\n",
    "    \"sex\": float\n",
    "}\n",
    "df = pd.read_csv(\n",
    "    \"data/Body_measurements_of_507_physically_active_individuals.csv\",\n",
    "    dtype=dtype\n",
    ")\n",
    "_ = df.pop(\"Unnamed: 0\")\n"
   ]
  },
  {
   "cell_type": "code",
   "execution_count": 196,
   "metadata": {},
   "outputs": [
    {
     "data": {
      "text/plain": [
       "bia_di    0.0\n",
       "bii_di    0.0\n",
       "bit_di    0.0\n",
       "che_de    0.0\n",
       "che_di    0.0\n",
       "elb_di    0.0\n",
       "wri_di    0.0\n",
       "kne_di    0.0\n",
       "ank_di    0.0\n",
       "sho_gi    0.0\n",
       "che_gi    0.0\n",
       "wai_gi    0.0\n",
       "nav_gi    0.0\n",
       "hip_gi    0.0\n",
       "thi_gi    0.0\n",
       "bic_gi    0.0\n",
       "for_gi    0.0\n",
       "kne_gi    0.0\n",
       "cal_gi    0.0\n",
       "ank_gi    0.0\n",
       "wri_gi    0.0\n",
       "age       0.0\n",
       "wgt       0.0\n",
       "hgt       0.0\n",
       "sex       0.0\n",
       "dtype: float64"
      ]
     },
     "execution_count": 196,
     "metadata": {},
     "output_type": "execute_result"
    }
   ],
   "source": [
    "percent_missing = df.isna().sum() * 100 / len(df)\n",
    "percent_missing"
   ]
  },
  {
   "cell_type": "code",
   "execution_count": 200,
   "metadata": {},
   "outputs": [
    {
     "data": {
      "text/plain": [
       "bia_di    float64\n",
       "bii_di    float64\n",
       "bit_di    float64\n",
       "che_de    float64\n",
       "che_di    float64\n",
       "elb_di    float64\n",
       "wri_di    float64\n",
       "kne_di    float64\n",
       "ank_di    float64\n",
       "sho_gi    float64\n",
       "che_gi    float64\n",
       "wai_gi    float64\n",
       "nav_gi    float64\n",
       "hip_gi    float64\n",
       "thi_gi    float64\n",
       "bic_gi    float64\n",
       "for_gi    float64\n",
       "kne_gi    float64\n",
       "cal_gi    float64\n",
       "ank_gi    float64\n",
       "wri_gi    float64\n",
       "age       float64\n",
       "wgt       float64\n",
       "hgt       float64\n",
       "sex       float64\n",
       "dtype: object"
      ]
     },
     "execution_count": 200,
     "metadata": {},
     "output_type": "execute_result"
    }
   ],
   "source": [
    "df.dtypes"
   ]
  },
  {
   "cell_type": "code",
   "execution_count": 201,
   "metadata": {},
   "outputs": [],
   "source": [
    "X = df[\n",
    "    [\"bia_di\", \"bii_di\", \"bit_di\", \"che_de\", \"che_di\", \"elb_di\", \"wri_di\", \"kne_di\", \"ank_di\", \"sho_gi\", \"che_gi\", \"wai_gi\", \"nav_gi\", \"hip_gi\", \"thi_gi\", \"bic_gi\", \"for_gi\", \"kne_gi\", \"cal_gi\", \"ank_gi\", \"wri_gi\", \"age\", \"hgt\", \"sex\"]\n",
    "].values"
   ]
  },
  {
   "cell_type": "code",
   "execution_count": 202,
   "metadata": {},
   "outputs": [],
   "source": [
    "y = df[\"wgt\"].values"
   ]
  },
  {
   "cell_type": "code",
   "execution_count": 203,
   "metadata": {},
   "outputs": [
    {
     "data": {
      "text/plain": [
       "array([[ 42.9,  26. ,  31.5, ...,  21. , 174. ,   1. ],\n",
       "       [ 43.7,  28.5,  33.5, ...,  23. , 175.3,   1. ],\n",
       "       [ 40.1,  28.2,  33.3, ...,  28. , 193.5,   1. ],\n",
       "       ...,\n",
       "       [ 34.7,  24.9,  24.7, ...,  33. , 160.7,   0. ],\n",
       "       [ 38.5,  29. ,  32.9, ...,  33. , 174. ,   0. ],\n",
       "       [ 35.6,  29. ,  29. , ...,  38. , 163.8,   0. ]])"
      ]
     },
     "execution_count": 203,
     "metadata": {},
     "output_type": "execute_result"
    }
   ],
   "source": [
    "X"
   ]
  },
  {
   "cell_type": "code",
   "execution_count": 204,
   "metadata": {},
   "outputs": [
    {
     "data": {
      "text/plain": [
       "array([65.6, 71.8, 80.7, 72.6, 78.8, 74.8, 86.4, 78.4, 62. , 81.6])"
      ]
     },
     "execution_count": 204,
     "metadata": {},
     "output_type": "execute_result"
    }
   ],
   "source": [
    "y[:10]"
   ]
  },
  {
   "cell_type": "code",
   "execution_count": 205,
   "metadata": {},
   "outputs": [],
   "source": [
    "from sklearn.model_selection import train_test_split"
   ]
  },
  {
   "cell_type": "code",
   "execution_count": 206,
   "metadata": {},
   "outputs": [],
   "source": [
    "X_train, X_test, y_train, y_test = train_test_split(X, y, test_size=0.2, random_state=42)"
   ]
  },
  {
   "cell_type": "code",
   "execution_count": 207,
   "metadata": {},
   "outputs": [],
   "source": [
    "# X_train, X_test, y_train, y_test"
   ]
  },
  {
   "cell_type": "code",
   "execution_count": 210,
   "metadata": {},
   "outputs": [
    {
     "data": {
      "text/plain": [
       "(405, 24)"
      ]
     },
     "execution_count": 210,
     "metadata": {},
     "output_type": "execute_result"
    }
   ],
   "source": [
    "X_train.shape"
   ]
  },
  {
   "cell_type": "code",
   "execution_count": 213,
   "metadata": {},
   "outputs": [
    {
     "data": {
      "text/plain": [
       "(-119.24115680192175,\n",
       " array([-0.08087949,  0.15133074, -0.09154895,  0.32467182,  0.17250875,\n",
       "         0.22620247,  0.19349686,  0.43132735, -0.02691931,  0.11381653,\n",
       "         0.10938755,  0.37716633, -0.01364977,  0.224708  ,  0.22967511,\n",
       "         0.03617196,  0.60432303,  0.11992212,  0.39080949,  0.09173795,\n",
       "        -0.37395239, -0.0508679 ,  0.30529481, -1.49459481]))"
      ]
     },
     "execution_count": 213,
     "metadata": {},
     "output_type": "execute_result"
    }
   ],
   "source": [
    "#%%timeit\n",
    "from sklearn.linear_model import LinearRegression\n",
    "lin_reg_p = LinearRegression()\n",
    "lin_reg_p.fit(X_train, y_train)\n",
    "y_train_p = lin_reg_p.predict(X_train)\n",
    "lin_reg_p.intercept_, lin_reg_p.coef_"
   ]
  },
  {
   "cell_type": "code",
   "execution_count": 214,
   "metadata": {},
   "outputs": [],
   "source": [
    "y_predict = lin_reg_p.predict(X_test)\n",
    "test_df = pd.DataFrame()\n",
    "test_df[\"y_predict\"] = y_predict\n",
    "test_df[\"y_test\"] = y_test"
   ]
  },
  {
   "cell_type": "code",
   "execution_count": 215,
   "metadata": {},
   "outputs": [
    {
     "data": {
      "text/plain": [
       "(array([74.88398358, 67.51806576, 57.24265041, 70.79053697, 57.27217722]),\n",
       " array([73.6, 67.3, 60. , 67.7, 54.5]))"
      ]
     },
     "execution_count": 215,
     "metadata": {},
     "output_type": "execute_result"
    }
   ],
   "source": [
    "y_predict[:5], y_test[:5]"
   ]
  },
  {
   "cell_type": "code",
   "execution_count": 217,
   "metadata": {},
   "outputs": [
    {
     "data": {
      "text/html": [
       "<div>\n",
       "<style scoped>\n",
       "    .dataframe tbody tr th:only-of-type {\n",
       "        vertical-align: middle;\n",
       "    }\n",
       "\n",
       "    .dataframe tbody tr th {\n",
       "        vertical-align: top;\n",
       "    }\n",
       "\n",
       "    .dataframe thead th {\n",
       "        text-align: right;\n",
       "    }\n",
       "</style>\n",
       "<table border=\"1\" class=\"dataframe\">\n",
       "  <thead>\n",
       "    <tr style=\"text-align: right;\">\n",
       "      <th></th>\n",
       "      <th>y_predict</th>\n",
       "      <th>y_test</th>\n",
       "    </tr>\n",
       "  </thead>\n",
       "  <tbody>\n",
       "    <tr>\n",
       "      <th>0</th>\n",
       "      <td>74.883984</td>\n",
       "      <td>73.6</td>\n",
       "    </tr>\n",
       "    <tr>\n",
       "      <th>1</th>\n",
       "      <td>67.518066</td>\n",
       "      <td>67.3</td>\n",
       "    </tr>\n",
       "    <tr>\n",
       "      <th>2</th>\n",
       "      <td>57.242650</td>\n",
       "      <td>60.0</td>\n",
       "    </tr>\n",
       "    <tr>\n",
       "      <th>3</th>\n",
       "      <td>70.790537</td>\n",
       "      <td>67.7</td>\n",
       "    </tr>\n",
       "    <tr>\n",
       "      <th>4</th>\n",
       "      <td>57.272177</td>\n",
       "      <td>54.5</td>\n",
       "    </tr>\n",
       "    <tr>\n",
       "      <th>5</th>\n",
       "      <td>72.031004</td>\n",
       "      <td>72.0</td>\n",
       "    </tr>\n",
       "    <tr>\n",
       "      <th>6</th>\n",
       "      <td>54.921004</td>\n",
       "      <td>55.7</td>\n",
       "    </tr>\n",
       "    <tr>\n",
       "      <th>7</th>\n",
       "      <td>99.555253</td>\n",
       "      <td>108.6</td>\n",
       "    </tr>\n",
       "    <tr>\n",
       "      <th>8</th>\n",
       "      <td>54.397574</td>\n",
       "      <td>55.4</td>\n",
       "    </tr>\n",
       "    <tr>\n",
       "      <th>9</th>\n",
       "      <td>74.581883</td>\n",
       "      <td>76.8</td>\n",
       "    </tr>\n",
       "  </tbody>\n",
       "</table>\n",
       "</div>"
      ],
      "text/plain": [
       "   y_predict  y_test\n",
       "0  74.883984    73.6\n",
       "1  67.518066    67.3\n",
       "2  57.242650    60.0\n",
       "3  70.790537    67.7\n",
       "4  57.272177    54.5\n",
       "5  72.031004    72.0\n",
       "6  54.921004    55.7\n",
       "7  99.555253   108.6\n",
       "8  54.397574    55.4\n",
       "9  74.581883    76.8"
      ]
     },
     "execution_count": 217,
     "metadata": {},
     "output_type": "execute_result"
    }
   ],
   "source": [
    "test_df.head(10)                                                               "
   ]
  },
  {
   "cell_type": "code",
   "execution_count": 218,
   "metadata": {},
   "outputs": [
    {
     "data": {
      "text/plain": [
       "2.027348014345901"
      ]
     },
     "execution_count": 218,
     "metadata": {},
     "output_type": "execute_result"
    }
   ],
   "source": [
    "rmse_fn(y_train_p, y_train)"
   ]
  },
  {
   "cell_type": "code",
   "execution_count": 219,
   "metadata": {},
   "outputs": [
    {
     "data": {
      "text/plain": [
       "2.184147761563231"
      ]
     },
     "execution_count": 219,
     "metadata": {},
     "output_type": "execute_result"
    }
   ],
   "source": [
    "rmse_fn(y_predict, y_test)"
   ]
  },
  {
   "cell_type": "markdown",
   "metadata": {},
   "source": [
    "# Standarisation"
   ]
  },
  {
   "cell_type": "code",
   "execution_count": 222,
   "metadata": {},
   "outputs": [],
   "source": [
    "df_s = df.copy()\n",
    "X = df_s[\n",
    "    [\"bia_di\", \"bii_di\", \"bit_di\", \"che_de\", \"che_di\", \"elb_di\", \"wri_di\", \"kne_di\", \"ank_di\", \"sho_gi\", \"che_gi\", \"wai_gi\", \"nav_gi\", \"hip_gi\", \"thi_gi\", \"bic_gi\", \"for_gi\", \"kne_gi\", \"cal_gi\", \"ank_gi\", \"wri_gi\", \"age\", \"hgt\", \"sex\"]\n",
    "].values\n",
    "y = df_s[\"wgt\"].values"
   ]
  },
  {
   "cell_type": "code",
   "execution_count": 223,
   "metadata": {},
   "outputs": [
    {
     "data": {
      "text/html": [
       "<div>\n",
       "<style scoped>\n",
       "    .dataframe tbody tr th:only-of-type {\n",
       "        vertical-align: middle;\n",
       "    }\n",
       "\n",
       "    .dataframe tbody tr th {\n",
       "        vertical-align: top;\n",
       "    }\n",
       "\n",
       "    .dataframe thead th {\n",
       "        text-align: right;\n",
       "    }\n",
       "</style>\n",
       "<table border=\"1\" class=\"dataframe\">\n",
       "  <thead>\n",
       "    <tr style=\"text-align: right;\">\n",
       "      <th></th>\n",
       "      <th>bia_di</th>\n",
       "      <th>bii_di</th>\n",
       "      <th>bit_di</th>\n",
       "      <th>che_de</th>\n",
       "      <th>che_di</th>\n",
       "      <th>elb_di</th>\n",
       "      <th>wri_di</th>\n",
       "      <th>kne_di</th>\n",
       "      <th>ank_di</th>\n",
       "      <th>sho_gi</th>\n",
       "      <th>...</th>\n",
       "      <th>bic_gi</th>\n",
       "      <th>for_gi</th>\n",
       "      <th>kne_gi</th>\n",
       "      <th>cal_gi</th>\n",
       "      <th>ank_gi</th>\n",
       "      <th>wri_gi</th>\n",
       "      <th>age</th>\n",
       "      <th>wgt</th>\n",
       "      <th>hgt</th>\n",
       "      <th>sex</th>\n",
       "    </tr>\n",
       "  </thead>\n",
       "  <tbody>\n",
       "    <tr>\n",
       "      <th>0</th>\n",
       "      <td>42.9</td>\n",
       "      <td>26.0</td>\n",
       "      <td>31.5</td>\n",
       "      <td>17.7</td>\n",
       "      <td>28.0</td>\n",
       "      <td>13.1</td>\n",
       "      <td>10.4</td>\n",
       "      <td>18.8</td>\n",
       "      <td>14.1</td>\n",
       "      <td>106.2</td>\n",
       "      <td>...</td>\n",
       "      <td>32.5</td>\n",
       "      <td>26.0</td>\n",
       "      <td>34.5</td>\n",
       "      <td>36.5</td>\n",
       "      <td>23.5</td>\n",
       "      <td>16.5</td>\n",
       "      <td>21.0</td>\n",
       "      <td>65.6</td>\n",
       "      <td>174.0</td>\n",
       "      <td>1.0</td>\n",
       "    </tr>\n",
       "    <tr>\n",
       "      <th>1</th>\n",
       "      <td>43.7</td>\n",
       "      <td>28.5</td>\n",
       "      <td>33.5</td>\n",
       "      <td>16.9</td>\n",
       "      <td>30.8</td>\n",
       "      <td>14.0</td>\n",
       "      <td>11.8</td>\n",
       "      <td>20.6</td>\n",
       "      <td>15.1</td>\n",
       "      <td>110.5</td>\n",
       "      <td>...</td>\n",
       "      <td>34.4</td>\n",
       "      <td>28.0</td>\n",
       "      <td>36.5</td>\n",
       "      <td>37.5</td>\n",
       "      <td>24.5</td>\n",
       "      <td>17.0</td>\n",
       "      <td>23.0</td>\n",
       "      <td>71.8</td>\n",
       "      <td>175.3</td>\n",
       "      <td>1.0</td>\n",
       "    </tr>\n",
       "    <tr>\n",
       "      <th>2</th>\n",
       "      <td>40.1</td>\n",
       "      <td>28.2</td>\n",
       "      <td>33.3</td>\n",
       "      <td>20.9</td>\n",
       "      <td>31.7</td>\n",
       "      <td>13.9</td>\n",
       "      <td>10.9</td>\n",
       "      <td>19.7</td>\n",
       "      <td>14.1</td>\n",
       "      <td>115.1</td>\n",
       "      <td>...</td>\n",
       "      <td>33.4</td>\n",
       "      <td>28.8</td>\n",
       "      <td>37.0</td>\n",
       "      <td>37.3</td>\n",
       "      <td>21.9</td>\n",
       "      <td>16.9</td>\n",
       "      <td>28.0</td>\n",
       "      <td>80.7</td>\n",
       "      <td>193.5</td>\n",
       "      <td>1.0</td>\n",
       "    </tr>\n",
       "    <tr>\n",
       "      <th>3</th>\n",
       "      <td>44.3</td>\n",
       "      <td>29.9</td>\n",
       "      <td>34.0</td>\n",
       "      <td>18.4</td>\n",
       "      <td>28.2</td>\n",
       "      <td>13.9</td>\n",
       "      <td>11.2</td>\n",
       "      <td>20.9</td>\n",
       "      <td>15.0</td>\n",
       "      <td>104.5</td>\n",
       "      <td>...</td>\n",
       "      <td>31.0</td>\n",
       "      <td>26.2</td>\n",
       "      <td>37.0</td>\n",
       "      <td>34.8</td>\n",
       "      <td>23.0</td>\n",
       "      <td>16.6</td>\n",
       "      <td>23.0</td>\n",
       "      <td>72.6</td>\n",
       "      <td>186.5</td>\n",
       "      <td>1.0</td>\n",
       "    </tr>\n",
       "    <tr>\n",
       "      <th>4</th>\n",
       "      <td>42.5</td>\n",
       "      <td>29.9</td>\n",
       "      <td>34.0</td>\n",
       "      <td>21.5</td>\n",
       "      <td>29.4</td>\n",
       "      <td>15.2</td>\n",
       "      <td>11.6</td>\n",
       "      <td>20.7</td>\n",
       "      <td>14.9</td>\n",
       "      <td>107.5</td>\n",
       "      <td>...</td>\n",
       "      <td>32.0</td>\n",
       "      <td>28.4</td>\n",
       "      <td>37.7</td>\n",
       "      <td>38.6</td>\n",
       "      <td>24.4</td>\n",
       "      <td>18.0</td>\n",
       "      <td>22.0</td>\n",
       "      <td>78.8</td>\n",
       "      <td>187.2</td>\n",
       "      <td>1.0</td>\n",
       "    </tr>\n",
       "  </tbody>\n",
       "</table>\n",
       "<p>5 rows × 25 columns</p>\n",
       "</div>"
      ],
      "text/plain": [
       "   bia_di  bii_di  bit_di  che_de  che_di  elb_di  wri_di  kne_di  ank_di  \\\n",
       "0    42.9    26.0    31.5    17.7    28.0    13.1    10.4    18.8    14.1   \n",
       "1    43.7    28.5    33.5    16.9    30.8    14.0    11.8    20.6    15.1   \n",
       "2    40.1    28.2    33.3    20.9    31.7    13.9    10.9    19.7    14.1   \n",
       "3    44.3    29.9    34.0    18.4    28.2    13.9    11.2    20.9    15.0   \n",
       "4    42.5    29.9    34.0    21.5    29.4    15.2    11.6    20.7    14.9   \n",
       "\n",
       "   sho_gi  ...  bic_gi  for_gi  kne_gi  cal_gi  ank_gi  wri_gi   age   wgt  \\\n",
       "0   106.2  ...    32.5    26.0    34.5    36.5    23.5    16.5  21.0  65.6   \n",
       "1   110.5  ...    34.4    28.0    36.5    37.5    24.5    17.0  23.0  71.8   \n",
       "2   115.1  ...    33.4    28.8    37.0    37.3    21.9    16.9  28.0  80.7   \n",
       "3   104.5  ...    31.0    26.2    37.0    34.8    23.0    16.6  23.0  72.6   \n",
       "4   107.5  ...    32.0    28.4    37.7    38.6    24.4    18.0  22.0  78.8   \n",
       "\n",
       "     hgt  sex  \n",
       "0  174.0  1.0  \n",
       "1  175.3  1.0  \n",
       "2  193.5  1.0  \n",
       "3  186.5  1.0  \n",
       "4  187.2  1.0  \n",
       "\n",
       "[5 rows x 25 columns]"
      ]
     },
     "execution_count": 223,
     "metadata": {},
     "output_type": "execute_result"
    }
   ],
   "source": [
    "df_s.head()"
   ]
  },
  {
   "cell_type": "code",
   "execution_count": 224,
   "metadata": {},
   "outputs": [],
   "source": [
    "col = df[[\"bia_di\"]]"
   ]
  },
  {
   "cell_type": "code",
   "execution_count": 226,
   "metadata": {},
   "outputs": [
    {
     "data": {
      "text/html": [
       "<div>\n",
       "<style scoped>\n",
       "    .dataframe tbody tr th:only-of-type {\n",
       "        vertical-align: middle;\n",
       "    }\n",
       "\n",
       "    .dataframe tbody tr th {\n",
       "        vertical-align: top;\n",
       "    }\n",
       "\n",
       "    .dataframe thead th {\n",
       "        text-align: right;\n",
       "    }\n",
       "</style>\n",
       "<table border=\"1\" class=\"dataframe\">\n",
       "  <thead>\n",
       "    <tr style=\"text-align: right;\">\n",
       "      <th></th>\n",
       "      <th>bia_di</th>\n",
       "    </tr>\n",
       "  </thead>\n",
       "  <tbody>\n",
       "    <tr>\n",
       "      <th>0</th>\n",
       "      <td>42.9</td>\n",
       "    </tr>\n",
       "    <tr>\n",
       "      <th>1</th>\n",
       "      <td>43.7</td>\n",
       "    </tr>\n",
       "    <tr>\n",
       "      <th>2</th>\n",
       "      <td>40.1</td>\n",
       "    </tr>\n",
       "    <tr>\n",
       "      <th>3</th>\n",
       "      <td>44.3</td>\n",
       "    </tr>\n",
       "    <tr>\n",
       "      <th>4</th>\n",
       "      <td>42.5</td>\n",
       "    </tr>\n",
       "  </tbody>\n",
       "</table>\n",
       "</div>"
      ],
      "text/plain": [
       "   bia_di\n",
       "0    42.9\n",
       "1    43.7\n",
       "2    40.1\n",
       "3    44.3\n",
       "4    42.5"
      ]
     },
     "execution_count": 226,
     "metadata": {},
     "output_type": "execute_result"
    }
   ],
   "source": [
    "col.head(5)"
   ]
  },
  {
   "cell_type": "code",
   "execution_count": 227,
   "metadata": {},
   "outputs": [
    {
     "name": "stdout",
     "output_type": "stream",
     "text": [
      "[38.81143984]\n",
      "[3.05611349]\n"
     ]
    }
   ],
   "source": [
    "from sklearn.preprocessing import StandardScaler\n",
    "scaler = StandardScaler()\n",
    "scaler.fit(col)\n",
    "print(scaler.mean_)\n",
    "print(scaler.scale_)"
   ]
  },
  {
   "cell_type": "code",
   "execution_count": 228,
   "metadata": {},
   "outputs": [
    {
     "data": {
      "text/plain": [
       "array([[1.33782995],\n",
       "       [1.59960033],\n",
       "       [0.42163361],\n",
       "       [1.79592812],\n",
       "       [1.20694476]])"
      ]
     },
     "execution_count": 228,
     "metadata": {},
     "output_type": "execute_result"
    }
   ],
   "source": [
    "scaler.transform(col)[:5]"
   ]
  },
  {
   "cell_type": "code",
   "execution_count": 229,
   "metadata": {},
   "outputs": [
    {
     "name": "stdout",
     "output_type": "stream",
     "text": [
      "[ 38.81143984  27.82998028  31.98047337  19.2260355   27.97376726\n",
      "  13.3852071   10.54260355  18.81065089  13.86331361 108.19506903\n",
      "  93.33353057  76.97948718  85.65384615  96.68086785  56.85581854\n",
      "  31.16962525  25.94299803  36.20295858  36.07830375  22.15739645\n",
      "  16.0974359   30.18145957 171.14378698   0.48717949]\n",
      "[ 3.05611349  2.2041311   2.02891168  2.51339462  2.73894446  1.35157082\n",
      "  0.94342923  1.34626555  1.24612032 10.36459777 10.01772689 11.00182221\n",
      "  9.41482946  6.6740311   4.4554889   4.24275045  2.82778642  2.61498698\n",
      "  2.84485117  1.86049969  1.3795682   9.59899174  9.3979233   0.49983561]\n"
     ]
    }
   ],
   "source": [
    "scaler2 = StandardScaler()\n",
    "scaler2.fit(X)\n",
    "print(scaler2.mean_)\n",
    "print(scaler2.scale_)"
   ]
  },
  {
   "cell_type": "code",
   "execution_count": 231,
   "metadata": {},
   "outputs": [
    {
     "data": {
      "text/plain": [
       "array([[ 1.33782995, -0.8302502 , -0.23681335, -0.60716112,  0.00957768,\n",
       "        -0.21101898, -0.15115448, -0.00791143,  0.18993863, -0.1924888 ,\n",
       "        -0.38267469, -0.49805269, -1.18471038, -0.47660369, -1.20207202,\n",
       "         0.31356422,  0.02015781, -0.65123023,  0.14823139,  0.721636  ,\n",
       "         0.29180442, -0.9565025 ,  0.30391959,  1.02597835],\n",
       "       [ 1.59960033,  0.30398361,  0.7489368 , -0.92545575,  1.03186931,\n",
       "         0.45487287,  1.33279362,  1.32912048,  0.99242936,  0.22238499,\n",
       "         0.36599814,  0.18365256,  0.08987458, -0.28181886, -1.20207202,\n",
       "         0.76138693,  0.7274248 ,  0.11359193,  0.49974363,  1.25912601,\n",
       "         0.65423667, -0.74814728,  0.44224802,  1.02597835],\n",
       "       [ 0.42163361,  0.16787555,  0.65036179,  0.66601738,  1.36046305,\n",
       "         0.38088489,  0.37882699,  0.66060452,  0.18993863,  0.66620347,\n",
       "         0.41590966,  0.5654075 , -0.29250091, -0.25185197,  0.09969309,\n",
       "         0.52569077,  1.0103316 ,  0.30479747,  0.42944118, -0.13834802,\n",
       "         0.58175022, -0.22725924,  2.37884608,  1.02597835]])"
      ]
     },
     "execution_count": 231,
     "metadata": {},
     "output_type": "execute_result"
    }
   ],
   "source": [
    "X_s  = scaler2.transform(X)\n",
    "X_s[:3]"
   ]
  },
  {
   "cell_type": "code",
   "execution_count": 232,
   "metadata": {},
   "outputs": [],
   "source": [
    "X_train, X_test, y_train, y_test = train_test_split(X_s, y, test_size=0.2, random_state=42)"
   ]
  },
  {
   "cell_type": "code",
   "execution_count": 233,
   "metadata": {},
   "outputs": [
    {
     "data": {
      "text/plain": [
       "(69.19726525391737,\n",
       " array([-0.24717692,  0.3335528 , -0.18574474,  0.8160284 ,  0.47249187,\n",
       "         0.30572866,  0.18255059,  0.58068115, -0.0335447 ,  1.17966255,\n",
       "         1.09581459,  4.14951689, -0.12851027,  1.49970815,  1.02331491,\n",
       "         0.15346859,  1.70889645,  0.31359479,  1.11179483,  0.17067843,\n",
       "        -0.51589283, -0.48828051,  2.86913725, -0.74705171]))"
      ]
     },
     "execution_count": 233,
     "metadata": {},
     "output_type": "execute_result"
    }
   ],
   "source": [
    "#%%timeit\n",
    "from sklearn.linear_model import LinearRegression\n",
    "lin_reg_p = LinearRegression()\n",
    "lin_reg_p.fit(X_train, y_train)\n",
    "y_train_p = lin_reg_p.predict(X_train)\n",
    "lin_reg_p.intercept_, lin_reg_p.coef_"
   ]
  },
  {
   "cell_type": "markdown",
   "metadata": {},
   "source": []
  },
  {
   "cell_type": "code",
   "execution_count": 234,
   "metadata": {},
   "outputs": [],
   "source": [
    "y_predict = lin_reg_p.predict(X_test)\n",
    "test_df = pd.DataFrame()\n",
    "test_df[\"y_predict\"] = y_predict\n",
    "test_df[\"y_test\"] = y_test"
   ]
  },
  {
   "cell_type": "code",
   "execution_count": 235,
   "metadata": {},
   "outputs": [
    {
     "data": {
      "text/plain": [
       "(array([74.88398358, 67.51806576, 57.24265041, 70.79053697, 57.27217722]),\n",
       " array([73.6, 67.3, 60. , 67.7, 54.5]))"
      ]
     },
     "execution_count": 235,
     "metadata": {},
     "output_type": "execute_result"
    }
   ],
   "source": [
    "y_predict[:5], y_test[:5]"
   ]
  },
  {
   "cell_type": "code",
   "execution_count": 236,
   "metadata": {},
   "outputs": [
    {
     "data": {
      "text/html": [
       "<div>\n",
       "<style scoped>\n",
       "    .dataframe tbody tr th:only-of-type {\n",
       "        vertical-align: middle;\n",
       "    }\n",
       "\n",
       "    .dataframe tbody tr th {\n",
       "        vertical-align: top;\n",
       "    }\n",
       "\n",
       "    .dataframe thead th {\n",
       "        text-align: right;\n",
       "    }\n",
       "</style>\n",
       "<table border=\"1\" class=\"dataframe\">\n",
       "  <thead>\n",
       "    <tr style=\"text-align: right;\">\n",
       "      <th></th>\n",
       "      <th>y_predict</th>\n",
       "      <th>y_test</th>\n",
       "    </tr>\n",
       "  </thead>\n",
       "  <tbody>\n",
       "    <tr>\n",
       "      <th>0</th>\n",
       "      <td>74.883984</td>\n",
       "      <td>73.6</td>\n",
       "    </tr>\n",
       "    <tr>\n",
       "      <th>1</th>\n",
       "      <td>67.518066</td>\n",
       "      <td>67.3</td>\n",
       "    </tr>\n",
       "    <tr>\n",
       "      <th>2</th>\n",
       "      <td>57.242650</td>\n",
       "      <td>60.0</td>\n",
       "    </tr>\n",
       "    <tr>\n",
       "      <th>3</th>\n",
       "      <td>70.790537</td>\n",
       "      <td>67.7</td>\n",
       "    </tr>\n",
       "    <tr>\n",
       "      <th>4</th>\n",
       "      <td>57.272177</td>\n",
       "      <td>54.5</td>\n",
       "    </tr>\n",
       "  </tbody>\n",
       "</table>\n",
       "</div>"
      ],
      "text/plain": [
       "   y_predict  y_test\n",
       "0  74.883984    73.6\n",
       "1  67.518066    67.3\n",
       "2  57.242650    60.0\n",
       "3  70.790537    67.7\n",
       "4  57.272177    54.5"
      ]
     },
     "execution_count": 236,
     "metadata": {},
     "output_type": "execute_result"
    }
   ],
   "source": [
    "test_df.head(5)"
   ]
  },
  {
   "cell_type": "code",
   "execution_count": 237,
   "metadata": {},
   "outputs": [
    {
     "data": {
      "text/plain": [
       "2.0273480143459004"
      ]
     },
     "execution_count": 237,
     "metadata": {},
     "output_type": "execute_result"
    }
   ],
   "source": [
    "rmse_fn(y_train_p, y_train)"
   ]
  },
  {
   "cell_type": "code",
   "execution_count": 238,
   "metadata": {},
   "outputs": [
    {
     "data": {
      "text/plain": [
       "2.1841477615632305"
      ]
     },
     "execution_count": 238,
     "metadata": {},
     "output_type": "execute_result"
    }
   ],
   "source": [
    "rmse_fn(y_predict, y_test)"
   ]
  },
  {
   "cell_type": "markdown",
   "metadata": {},
   "source": [
    "## 4.3 Régression polynomiale"
   ]
  },
  {
   "cell_type": "code",
   "execution_count": 239,
   "metadata": {},
   "outputs": [
    {
     "data": {
      "text/plain": [
       "((507, 24), (507, 324))"
      ]
     },
     "execution_count": 239,
     "metadata": {},
     "output_type": "execute_result"
    }
   ],
   "source": [
    "from sklearn.preprocessing import PolynomialFeatures\n",
    "poly_features = PolynomialFeatures(degree=2, include_bias=False)\n",
    "X_poly = poly_features.fit_transform(X)\n",
    "X.shape, X_poly.shape"
   ]
  },
  {
   "cell_type": "code",
   "execution_count": 240,
   "metadata": {},
   "outputs": [],
   "source": [
    "X_train, X_test, y_train, y_test = train_test_split(X_poly, y, test_size=0.2, random_state=42)"
   ]
  },
  {
   "cell_type": "code",
   "execution_count": 241,
   "metadata": {},
   "outputs": [
    {
     "data": {
      "text/plain": [
       "(2.789732911828551,\n",
       " array([-8.89865527e-01, -1.98525977e+00,  2.36795719e+00,  6.78513674e-01,\n",
       "         2.84676114e+00,  9.30317612e+00,  1.05613134e+00,  3.17256007e-01,\n",
       "         2.81119015e+00,  7.00825489e-01, -1.75197156e+00,  1.57785997e-01,\n",
       "         8.07842370e-01, -7.38184281e-01,  6.68586897e-01,  2.28330489e+00,\n",
       "        -3.51704430e+00, -3.85146504e+00,  1.64703421e+00, -5.10274318e+00,\n",
       "         1.32646551e+00, -3.64382957e-01, -3.29666539e-01, -1.32372044e+01,\n",
       "        -1.56838581e-02,  6.07245274e-02, -4.67954842e-02,  5.82856777e-02,\n",
       "         1.59171293e-01,  6.39578707e-02,  1.20420536e-01,  1.85711674e-01,\n",
       "        -6.96795331e-02, -3.03295725e-02, -7.98598881e-02,  1.62473338e-02,\n",
       "        -6.68896732e-02,  7.93712869e-02, -4.47634812e-02,  1.40169683e-01,\n",
       "        -5.42598164e-02, -9.26871552e-03, -1.16044916e-01,  6.07572499e-02,\n",
       "        -2.13136603e-01,  2.53000450e-02,  2.73574235e-02, -9.81538032e-02,\n",
       "         7.43181738e-02, -1.89047486e-01, -3.64432167e-02, -4.65922494e-02,\n",
       "         3.01464505e-01, -3.49718480e-01,  2.30927771e-01, -1.11704734e-01,\n",
       "         4.97872335e-02,  2.29720125e-02,  2.78708294e-03,  2.50843762e-04,\n",
       "         8.69377168e-03,  1.07414376e-02, -7.79046774e-02, -1.27443205e-01,\n",
       "         9.08067759e-03, -1.23308084e-01,  7.23148511e-02,  1.82338602e-01,\n",
       "         1.66708937e-02, -2.11423368e-02, -7.78534268e-01,  1.22877049e-02,\n",
       "        -1.62473426e-01, -1.32241816e-02,  5.50442340e-02, -1.22998163e-01,\n",
       "        -3.09325825e-01, -7.66401541e-02, -4.92096542e-02, -3.28255757e-02,\n",
       "         5.30435395e-02, -2.96185440e-03,  4.42442861e-03,  5.00269848e-02,\n",
       "        -4.21905671e-02,  2.78292962e-01, -1.57617628e-02,  1.34480275e-01,\n",
       "        -1.57485579e-01,  3.71342988e-01,  1.61562745e-02,  1.62957164e-02,\n",
       "         2.73486339e-01,  1.89037334e-02, -3.95243929e-02, -8.81252771e-02,\n",
       "        -4.76563498e-02,  2.23562625e-01, -1.03035195e-01,  2.67847493e-03,\n",
       "         2.96935062e-02,  6.67155542e-02, -1.55425682e-02,  2.71622583e-02,\n",
       "        -1.65444642e-02, -7.17807799e-02,  1.23804090e-01,  2.15487365e-02,\n",
       "        -6.37051807e-02,  1.02955116e-01, -4.68325490e-01, -1.58251024e-02,\n",
       "         4.13625659e-03, -6.72372700e-01, -8.32895745e-02,  8.74764007e-02,\n",
       "        -1.57541549e-01,  1.45835098e-01, -4.74889770e-01,  7.39046482e-02,\n",
       "         9.69210448e-03, -1.02510460e-02,  6.62767097e-02, -6.56867125e-02,\n",
       "        -1.62987162e-02, -7.67884309e-02, -9.79877246e-02, -4.81392290e-02,\n",
       "         5.84236460e-02,  1.49349225e-01,  7.63306612e-02, -7.40086977e-03,\n",
       "        -2.25924850e-02,  5.15692443e-01,  6.34192737e-01, -6.24424905e-01,\n",
       "         3.41401909e-02, -8.19983853e-01,  1.96155976e-01, -1.90498341e-01,\n",
       "         2.12040455e-02,  9.83984464e-02,  1.25444408e-02, -2.47595084e-01,\n",
       "         6.51419769e-02, -6.18554757e-01, -1.04272245e-01,  3.20795108e-01,\n",
       "        -3.01031818e-01,  5.28515506e-01, -7.93058144e-02, -9.41117732e-02,\n",
       "         9.40635707e-01, -1.28351625e+00,  6.25892126e-01,  9.47739683e-01,\n",
       "        -7.72683049e-02,  2.62511525e-01,  8.99210384e-02, -1.78529442e-01,\n",
       "        -7.28785499e-02, -1.69846902e-01, -1.55487746e-01,  8.54917720e-01,\n",
       "         3.73133775e-01,  1.83147619e-01, -2.20599048e-02, -1.06866392e+00,\n",
       "         9.59352699e-02,  6.86171735e-02, -3.66072098e+00,  1.18392421e-01,\n",
       "        -9.24194886e-02, -4.61389278e-02,  3.24544204e-02, -1.53389468e-01,\n",
       "         7.22257933e-02,  1.77200337e-01, -1.86184360e-01,  6.39904034e-02,\n",
       "        -3.04726581e-01,  9.19090242e-02,  3.53383944e-01, -4.28957107e-01,\n",
       "        -2.32492315e-01, -5.72731009e-02, -1.01946428e-01,  1.39215592e+00,\n",
       "        -2.20379247e-02,  1.56879189e-02,  3.47739503e-02,  5.00839822e-02,\n",
       "        -2.73913382e-02, -6.30504463e-03,  1.69445646e-01,  9.61547437e-02,\n",
       "         1.24835855e-01, -2.22834437e-01, -4.61906412e-01,  7.68743955e-01,\n",
       "        -1.38996994e-01, -6.14306424e-03,  7.44129549e-02,  3.07004615e-01,\n",
       "         1.50810736e-03, -2.83048791e-02,  2.81935162e-02, -4.99212613e-03,\n",
       "        -1.26185329e-02,  1.24523113e-02,  3.88410686e-03, -2.20752464e-02,\n",
       "         3.39024760e-02, -3.50674054e-02,  3.03707629e-03,  6.36457468e-03,\n",
       "        -4.20556751e-03, -5.38537469e-03, -1.91680177e-01,  3.01571784e-02,\n",
       "        -2.75825188e-02, -1.35802965e-02,  3.14714415e-02,  1.67726506e-02,\n",
       "        -8.81272907e-02,  1.59607231e-01, -4.90786109e-03, -7.97545493e-03,\n",
       "        -1.29556944e-02, -1.57519834e-01,  1.15227395e-02,  8.59215546e-03,\n",
       "         1.16983418e-01,  4.83095996e-03, -2.22060144e-04, -2.08154961e-02,\n",
       "        -1.76544873e-02, -7.81587609e-04, -4.31311620e-03, -2.43094020e-03,\n",
       "         2.20588928e-02, -2.39443249e-02,  2.76603602e-02, -1.00888219e-02,\n",
       "        -2.82220852e-03, -3.84731582e-01, -7.97263343e-03,  1.97536165e-02,\n",
       "        -2.43026645e-02,  3.66370264e-02,  1.82690181e-02, -1.84044710e-02,\n",
       "         1.84636591e-02,  1.07030030e-02,  2.27034619e-02, -1.30609957e-03,\n",
       "         2.03033097e-03,  1.02974363e-01,  3.01496521e-03,  5.34148323e-03,\n",
       "        -1.03240874e-02, -7.89435545e-02, -5.21505411e-02, -4.55809964e-02,\n",
       "         1.11675202e-01, -1.31604269e-01, -3.63017761e-04, -5.47205324e-03,\n",
       "         3.04844720e-01, -2.00992641e-02,  2.75377547e-02,  1.93021816e-03,\n",
       "         4.52337649e-02,  5.94031020e-02, -4.66857988e-02,  4.27916751e-01,\n",
       "         2.18304647e-03, -9.69301424e-03, -1.45471308e-01,  8.98987232e-02,\n",
       "         2.74820717e-02, -4.43970906e-02, -2.39469306e-02, -1.76001148e-01,\n",
       "        -1.15668574e-01,  1.76634630e-04,  2.13006988e-02, -1.13077612e-01,\n",
       "        -2.32392338e-01,  1.96548027e-01,  1.45573574e-02,  1.03772893e-01,\n",
       "         1.90240512e-01, -2.67647797e-02, -1.65107142e-02,  3.44468146e-03,\n",
       "         1.69736892e-02, -1.05719454e-01, -8.22960144e-02, -1.40206324e-01,\n",
       "         2.46827043e-02,  4.75261233e-02, -9.18636081e-01, -4.95826853e-02,\n",
       "         2.67021114e-01, -3.88612081e-01, -2.19323670e-03,  3.24262421e-02,\n",
       "         7.91856074e-01, -2.39120533e-02, -1.49110822e-01, -4.41951694e-02,\n",
       "        -2.51131249e-02, -4.75072358e-01,  1.12222647e+00,  7.35006845e-02,\n",
       "        -7.37399243e-02,  2.69480214e+00, -1.08896866e-03, -3.38939108e-04,\n",
       "         1.67530377e-01,  3.10132256e-03,  9.85050133e-02, -1.32372044e+01]))"
      ]
     },
     "execution_count": 241,
     "metadata": {},
     "output_type": "execute_result"
    }
   ],
   "source": [
    "lin_reg = LinearRegression()\n",
    "lin_reg.fit(X_poly, y)\n",
    "lin_reg.intercept_, lin_reg.coef_"
   ]
  },
  {
   "cell_type": "code",
   "execution_count": 242,
   "metadata": {},
   "outputs": [],
   "source": [
    "y_train_p = lin_reg.predict(X_train)\n",
    "y_predict = lin_reg.predict(X_test)"
   ]
  },
  {
   "cell_type": "code",
   "execution_count": 243,
   "metadata": {},
   "outputs": [
    {
     "data": {
      "text/plain": [
       "0.9916561305181157"
      ]
     },
     "execution_count": 243,
     "metadata": {},
     "output_type": "execute_result"
    }
   ],
   "source": [
    "rmse_fn(y_train_p, y_train)"
   ]
  },
  {
   "cell_type": "code",
   "execution_count": 244,
   "metadata": {},
   "outputs": [
    {
     "data": {
      "text/plain": [
       "0.9748576748617496"
      ]
     },
     "execution_count": 244,
     "metadata": {},
     "output_type": "execute_result"
    }
   ],
   "source": [
    "rmse_fn(y_predict, y_test)"
   ]
  },
  {
   "cell_type": "code",
   "execution_count": null,
   "metadata": {},
   "outputs": [],
   "source": []
  }
 ],
 "metadata": {
  "interpreter": {
   "hash": "31f2aee4e71d21fbe5cf8b01ff0e069b9275f58929596ceb00d14d90e3e16cd6"
  },
  "kernelspec": {
   "display_name": "Python 3.8.10 64-bit",
   "language": "python",
   "name": "python3"
  },
  "language_info": {
   "codemirror_mode": {
    "name": "ipython",
    "version": 3
   },
   "file_extension": ".py",
   "mimetype": "text/x-python",
   "name": "python",
   "nbconvert_exporter": "python",
   "pygments_lexer": "ipython3",
   "version": "3.8.10"
  },
  "orig_nbformat": 4
 },
 "nbformat": 4,
 "nbformat_minor": 2
}
