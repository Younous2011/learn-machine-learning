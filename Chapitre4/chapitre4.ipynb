{
 "cells": [
  {
   "cell_type": "markdown",
   "metadata": {},
   "source": [
    "# Vecteurs"
   ]
  },
  {
   "cell_type": "code",
   "execution_count": 1,
   "metadata": {},
   "outputs": [],
   "source": [
    "import numpy as np"
   ]
  },
  {
   "cell_type": "code",
   "execution_count": 2,
   "metadata": {},
   "outputs": [],
   "source": [
    "teta = np.array([1, 3, 8])\n",
    "x = np.array([5, 8, 25])"
   ]
  },
  {
   "cell_type": "code",
   "execution_count": 3,
   "metadata": {},
   "outputs": [
    {
     "data": {
      "text/plain": [
       "array([  5,  24, 200])"
      ]
     },
     "execution_count": 3,
     "metadata": {},
     "output_type": "execute_result"
    }
   ],
   "source": [
    "teta * x"
   ]
  },
  {
   "cell_type": "code",
   "execution_count": 4,
   "metadata": {},
   "outputs": [
    {
     "data": {
      "text/plain": [
       "229"
      ]
     },
     "execution_count": 4,
     "metadata": {},
     "output_type": "execute_result"
    }
   ],
   "source": [
    "np.dot(teta, x)"
   ]
  },
  {
   "cell_type": "code",
   "execution_count": 5,
   "metadata": {},
   "outputs": [
    {
     "data": {
      "text/plain": [
       "257"
      ]
     },
     "execution_count": 5,
     "metadata": {},
     "output_type": "execute_result"
    }
   ],
   "source": [
    "y = np.dot(teta, x) + 28\n",
    "y"
   ]
  },
  {
   "cell_type": "code",
   "execution_count": 6,
   "metadata": {},
   "outputs": [],
   "source": [
    "def h(x):\n",
    "    teta = np.array([1, 3, 8])\n",
    "    teta0 = 28\n",
    "    y = np.dot(teta, x) + teta0\n",
    "    return y"
   ]
  },
  {
   "cell_type": "code",
   "execution_count": 7,
   "metadata": {},
   "outputs": [
    {
     "data": {
      "text/plain": [
       "257"
      ]
     },
     "execution_count": 7,
     "metadata": {},
     "output_type": "execute_result"
    }
   ],
   "source": [
    "h(x)"
   ]
  },
  {
   "cell_type": "code",
   "execution_count": 8,
   "metadata": {},
   "outputs": [
    {
     "data": {
      "text/plain": [
       "array([3, 4, 6])"
      ]
     },
     "execution_count": 8,
     "metadata": {},
     "output_type": "execute_result"
    }
   ],
   "source": [
    "y2 = np.array([3, 4])\n",
    "np.append(y2, [6])"
   ]
  },
  {
   "cell_type": "code",
   "execution_count": 9,
   "metadata": {},
   "outputs": [],
   "source": [
    "def h2(x):\n",
    "    x_ = np.append(x, [1])\n",
    "    teta = np.array([1, 3, 8, 28])\n",
    "    y = np.dot(x_, teta)\n",
    "    return y"
   ]
  },
  {
   "cell_type": "code",
   "execution_count": 10,
   "metadata": {},
   "outputs": [
    {
     "data": {
      "text/plain": [
       "257"
      ]
     },
     "execution_count": 10,
     "metadata": {},
     "output_type": "execute_result"
    }
   ],
   "source": [
    "h2(x)"
   ]
  },
  {
   "cell_type": "markdown",
   "metadata": {},
   "source": [
    "# MSE"
   ]
  },
  {
   "cell_type": "code",
   "execution_count": 11,
   "metadata": {},
   "outputs": [],
   "source": [
    "def h(x):\n",
    "    teta = np.array([1, 3, 8])\n",
    "    teta0 = 28\n",
    "    y = np.dot(teta, x) + teta0\n",
    "    return y"
   ]
  },
  {
   "cell_type": "code",
   "execution_count": 12,
   "metadata": {},
   "outputs": [],
   "source": [
    "X_test = np.array([\n",
    "    [1, 3, 6],\n",
    "    [-1, 2, -2],\n",
    "    [0, 0, 3],\n",
    "    [3, 3, 3]\n",
    "])\n",
    "\n",
    "y_test = np.array([78, 15, 55, 60])"
   ]
  },
  {
   "cell_type": "code",
   "execution_count": 13,
   "metadata": {},
   "outputs": [
    {
     "data": {
      "text/plain": [
       "array([86, 17, 52, 64])"
      ]
     },
     "execution_count": 13,
     "metadata": {},
     "output_type": "execute_result"
    }
   ],
   "source": [
    "h(X_test.T)"
   ]
  },
  {
   "cell_type": "code",
   "execution_count": 14,
   "metadata": {},
   "outputs": [],
   "source": [
    "y_predict = h(X_test.T)"
   ]
  },
  {
   "cell_type": "code",
   "execution_count": 15,
   "metadata": {},
   "outputs": [
    {
     "name": "stdout",
     "output_type": "stream",
     "text": [
      "[86 17 52 64] [78 15 55 60]\n"
     ]
    }
   ],
   "source": [
    "print(y_predict, y_test)"
   ]
  },
  {
   "cell_type": "code",
   "execution_count": 16,
   "metadata": {},
   "outputs": [],
   "source": [
    "mse = ((86 - 78)**2 + (17 - 15)**2 + (55 - 52)**2 + (60 - 64)**2)/ 4"
   ]
  },
  {
   "cell_type": "code",
   "execution_count": 17,
   "metadata": {},
   "outputs": [],
   "source": [
    "rmse = np.sqrt(mse)"
   ]
  },
  {
   "cell_type": "code",
   "execution_count": 18,
   "metadata": {},
   "outputs": [
    {
     "name": "stdout",
     "output_type": "stream",
     "text": [
      "23.25 4.8218253804964775\n"
     ]
    }
   ],
   "source": [
    "print(mse, rmse)"
   ]
  },
  {
   "cell_type": "code",
   "execution_count": 19,
   "metadata": {},
   "outputs": [
    {
     "data": {
      "text/plain": [
       "23.25"
      ]
     },
     "execution_count": 19,
     "metadata": {},
     "output_type": "execute_result"
    }
   ],
   "source": [
    "np.mean((y_predict - y_test)**2)"
   ]
  },
  {
   "cell_type": "code",
   "execution_count": 20,
   "metadata": {},
   "outputs": [],
   "source": [
    "def mse_fn(y_predict, y_test):\n",
    "    return np.mean((y_predict - y_test)**2)"
   ]
  },
  {
   "cell_type": "code",
   "execution_count": 21,
   "metadata": {},
   "outputs": [],
   "source": [
    "def rmse_fn(y_predict, y_test):\n",
    "    return np.sqrt(np.mean((y_predict - y_test)**2))"
   ]
  },
  {
   "cell_type": "code",
   "execution_count": 22,
   "metadata": {},
   "outputs": [
    {
     "data": {
      "text/plain": [
       "23.25"
      ]
     },
     "execution_count": 22,
     "metadata": {},
     "output_type": "execute_result"
    }
   ],
   "source": [
    "mse_fn(y_predict, y_test)"
   ]
  },
  {
   "cell_type": "code",
   "execution_count": 23,
   "metadata": {},
   "outputs": [
    {
     "data": {
      "text/plain": [
       "4.8218253804964775"
      ]
     },
     "execution_count": 23,
     "metadata": {},
     "output_type": "execute_result"
    }
   ],
   "source": [
    "rmse_fn(y_predict, y_test)"
   ]
  },
  {
   "cell_type": "markdown",
   "metadata": {},
   "source": [
    "# Linear regression"
   ]
  },
  {
   "cell_type": "code",
   "execution_count": null,
   "metadata": {},
   "outputs": [],
   "source": []
  },
  {
   "cell_type": "code",
   "execution_count": 29,
   "metadata": {},
   "outputs": [],
   "source": [
    "import numpy as np\n",
    "X = 2 * np.random.rand(100, 1)\n",
    "y = 4 + 3 * X + np.random.randn(100, 1)"
   ]
  },
  {
   "cell_type": "code",
   "execution_count": 30,
   "metadata": {},
   "outputs": [
    {
     "data": {
      "text/plain": [
       "<matplotlib.collections.PathCollection at 0x7fb7bbe788b0>"
      ]
     },
     "execution_count": 30,
     "metadata": {},
     "output_type": "execute_result"
    },
    {
     "data": {
      "image/png": "[encoded data removed]",
      "text/plain": [
       "<Figure size 432x288 with 1 Axes>"
      ]
     },
     "metadata": {
      "needs_background": "light"
     },
     "output_type": "display_data"
    }
   ],
   "source": [
    "import matplotlib.pyplot as plt\n",
    "plt.scatter(X, y)"
   ]
  },
  {
   "cell_type": "code",
   "execution_count": 26,
   "metadata": {},
   "outputs": [
    {
     "name": "stdout",
     "output_type": "stream",
     "text": [
      "[[1.99649275]\n",
      " [1.30850319]\n",
      " [1.61521496]\n",
      " [0.60326593]\n",
      " [0.79982091]\n",
      " [0.22358134]\n",
      " [1.69613941]\n",
      " [1.24557465]\n",
      " [0.93283601]\n",
      " [0.46968502]\n",
      " [1.31168337]\n",
      " [0.79793878]\n",
      " [0.47970364]\n",
      " [0.1684672 ]\n",
      " [1.71516718]\n",
      " [0.4851284 ]\n",
      " [1.40125142]\n",
      " [1.06204671]\n",
      " [0.77063366]\n",
      " [0.06168943]\n",
      " [0.15969876]\n",
      " [1.21646648]\n",
      " [1.65244472]\n",
      " [0.57092678]\n",
      " [0.12659698]\n",
      " [1.82850571]\n",
      " [0.4681256 ]\n",
      " [1.66702842]\n",
      " [0.19683829]\n",
      " [1.57069406]\n",
      " [1.00194673]\n",
      " [1.52930018]\n",
      " [0.90456057]\n",
      " [0.42824856]\n",
      " [0.89816244]\n",
      " [1.57819906]\n",
      " [1.99618829]\n",
      " [0.62357828]\n",
      " [0.67491618]\n",
      " [1.60749367]\n",
      " [0.34979869]\n",
      " [1.63983884]\n",
      " [0.24011051]\n",
      " [1.16715665]\n",
      " [1.14928645]\n",
      " [0.38973912]\n",
      " [0.42818954]\n",
      " [1.45186702]\n",
      " [1.64957085]\n",
      " [1.53783519]\n",
      " [1.24690439]\n",
      " [1.46160704]\n",
      " [1.26646884]\n",
      " [1.43359246]\n",
      " [1.0924148 ]\n",
      " [1.70084839]\n",
      " [0.456462  ]\n",
      " [0.87748256]\n",
      " [1.33772693]\n",
      " [0.9867249 ]\n",
      " [1.79817851]\n",
      " [0.53616003]\n",
      " [1.2558169 ]\n",
      " [1.49415619]\n",
      " [0.57105987]\n",
      " [1.3121287 ]\n",
      " [0.43847079]\n",
      " [0.99674017]\n",
      " [1.39436156]\n",
      " [0.68876639]\n",
      " [1.9326529 ]\n",
      " [1.60460266]\n",
      " [1.34481066]\n",
      " [1.92574058]\n",
      " [0.79896734]\n",
      " [1.16195558]\n",
      " [1.19852496]\n",
      " [0.40982376]\n",
      " [1.59280612]\n",
      " [1.61801256]\n",
      " [0.25850086]\n",
      " [0.33339048]\n",
      " [0.5499212 ]\n",
      " [1.09695614]\n",
      " [0.37305424]\n",
      " [1.40891354]\n",
      " [0.1483782 ]\n",
      " [0.05728056]\n",
      " [1.31212141]\n",
      " [1.99628416]\n",
      " [0.55678554]\n",
      " [0.17905216]\n",
      " [1.70910441]\n",
      " [0.97146674]\n",
      " [1.77187203]\n",
      " [0.6512603 ]\n",
      " [1.42501724]\n",
      " [1.1694532 ]\n",
      " [1.21571565]\n",
      " [0.6946244 ]]\n"
     ]
    }
   ],
   "source": [
    "print(X)"
   ]
  },
  {
   "cell_type": "code",
   "execution_count": 27,
   "metadata": {},
   "outputs": [
    {
     "name": "stdout",
     "output_type": "stream",
     "text": [
      "[[9.98947826]\n",
      " [7.92550957]\n",
      " [8.84564487]\n",
      " [5.8097978 ]\n",
      " [6.39946273]\n",
      " [4.67074403]\n",
      " [9.08841822]\n",
      " [7.73672395]\n",
      " [6.79850803]\n",
      " [5.40905506]\n",
      " [7.93505011]\n",
      " [6.39381633]\n",
      " [5.43911091]\n",
      " [4.5054016 ]\n",
      " [9.14550155]\n",
      " [5.45538519]\n",
      " [8.20375425]\n",
      " [7.18614013]\n",
      " [6.31190099]\n",
      " [4.18506828]\n",
      " [4.47909629]\n",
      " [7.64939945]\n",
      " [8.95733416]\n",
      " [5.71278033]\n",
      " [4.37979094]\n",
      " [9.48551713]\n",
      " [5.40437679]\n",
      " [9.00108526]\n",
      " [4.59051486]\n",
      " [8.71208217]\n",
      " [7.0058402 ]\n",
      " [8.58790053]\n",
      " [6.71368171]\n",
      " [5.28474569]\n",
      " [6.69448731]\n",
      " [8.73459718]\n",
      " [9.98856487]\n",
      " [5.87073483]\n",
      " [6.02474855]\n",
      " [8.822481  ]\n",
      " [5.04939606]\n",
      " [8.91951651]\n",
      " [4.72033153]\n",
      " [7.50146995]\n",
      " [7.44785936]\n",
      " [5.16921737]\n",
      " [5.28456862]\n",
      " [8.35560105]\n",
      " [8.94871256]\n",
      " [8.61350558]\n",
      " [7.74071318]\n",
      " [8.38482113]\n",
      " [7.79940651]\n",
      " [8.30077738]\n",
      " [7.27724441]\n",
      " [9.10254518]\n",
      " [5.369386  ]\n",
      " [6.63244767]\n",
      " [8.01318078]\n",
      " [6.96017469]\n",
      " [9.39453553]\n",
      " [5.60848008]\n",
      " [7.7674507 ]\n",
      " [8.48246856]\n",
      " [5.71317962]\n",
      " [7.93638609]\n",
      " [5.31541237]\n",
      " [6.9902205 ]\n",
      " [8.18308469]\n",
      " [6.06629917]\n",
      " [9.79795869]\n",
      " [8.81380797]\n",
      " [8.03443198]\n",
      " [9.77722175]\n",
      " [6.39690203]\n",
      " [7.48586674]\n",
      " [7.59557488]\n",
      " [5.22947127]\n",
      " [8.77841835]\n",
      " [8.85403769]\n",
      " [4.77550259]\n",
      " [5.00017145]\n",
      " [5.64976359]\n",
      " [7.29086842]\n",
      " [5.11916272]\n",
      " [8.22674063]\n",
      " [4.44513459]\n",
      " [4.17184167]\n",
      " [7.93636423]\n",
      " [9.98885247]\n",
      " [5.67035663]\n",
      " [4.53715647]\n",
      " [9.12731322]\n",
      " [6.91440022]\n",
      " [9.3156161 ]\n",
      " [5.95378091]\n",
      " [8.27505172]\n",
      " [7.50835959]\n",
      " [7.64714696]\n",
      " [6.0838732 ]]\n"
     ]
    }
   ],
   "source": [
    "print(y)"
   ]
  },
  {
   "cell_type": "code",
   "execution_count": 33,
   "metadata": {},
   "outputs": [
    {
     "data": {
      "text/plain": [
       "(array([3.87900188]), array([[3.02720749]]))"
      ]
     },
     "execution_count": 33,
     "metadata": {},
     "output_type": "execute_result"
    }
   ],
   "source": [
    "from sklearn.linear_model import LinearRegression\n",
    "lin_reg = LinearRegression()\n",
    "lin_reg.fit(X, y)\n",
    "lin_reg.intercept_, lin_reg.coef_"
   ]
  },
  {
   "cell_type": "code",
   "execution_count": 35,
   "metadata": {},
   "outputs": [
    {
     "data": {
      "text/plain": [
       "array([[3.87900188],\n",
       "       [9.93341685]])"
      ]
     },
     "execution_count": 35,
     "metadata": {},
     "output_type": "execute_result"
    }
   ],
   "source": [
    "X_new = np.array([[0], [2]])\n",
    "y_predict = lin_reg.predict(X_new)\n",
    "y_predict"
   ]
  },
  {
   "cell_type": "code",
   "execution_count": 38,
   "metadata": {},
   "outputs": [
    {
     "data": {
      "image/png": "[encoded data removed]",
      "text/plain": [
       "<Figure size 432x288 with 1 Axes>"
      ]
     },
     "metadata": {
      "needs_background": "light"
     },
     "output_type": "display_data"
    }
   ],
   "source": [
    "plt.plot(X_new, y_predict, \"r-\")\n",
    "plt.plot(X, y, \"b.\")\n",
    "plt.show()"
   ]
  },
  {
   "cell_type": "markdown",
   "metadata": {},
   "source": [
    "## Exemple profit par population de ville"
   ]
  },
  {
   "cell_type": "code",
   "execution_count": 39,
   "metadata": {},
   "outputs": [],
   "source": [
    "import pandas as pd"
   ]
  },
  {
   "cell_type": "code",
   "execution_count": 53,
   "metadata": {},
   "outputs": [
    {
     "data": {
      "text/html": [
       "<div>\n",
       "<style scoped>\n",
       "    .dataframe tbody tr th:only-of-type {\n",
       "        vertical-align: middle;\n",
       "    }\n",
       "\n",
       "    .dataframe tbody tr th {\n",
       "        vertical-align: top;\n",
       "    }\n",
       "\n",
       "    .dataframe thead th {\n",
       "        text-align: right;\n",
       "    }\n",
       "</style>\n",
       "<table border=\"1\" class=\"dataframe\">\n",
       "  <thead>\n",
       "    <tr style=\"text-align: right;\">\n",
       "      <th></th>\n",
       "      <th>population_en_10k</th>\n",
       "      <th>revenu_en_10k$</th>\n",
       "    </tr>\n",
       "  </thead>\n",
       "  <tbody>\n",
       "    <tr>\n",
       "      <th>0</th>\n",
       "      <td>6.1101</td>\n",
       "      <td>17.5920</td>\n",
       "    </tr>\n",
       "    <tr>\n",
       "      <th>1</th>\n",
       "      <td>5.5277</td>\n",
       "      <td>9.1302</td>\n",
       "    </tr>\n",
       "    <tr>\n",
       "      <th>2</th>\n",
       "      <td>8.5186</td>\n",
       "      <td>13.6620</td>\n",
       "    </tr>\n",
       "    <tr>\n",
       "      <th>3</th>\n",
       "      <td>7.0032</td>\n",
       "      <td>11.8540</td>\n",
       "    </tr>\n",
       "    <tr>\n",
       "      <th>4</th>\n",
       "      <td>5.8598</td>\n",
       "      <td>6.8233</td>\n",
       "    </tr>\n",
       "  </tbody>\n",
       "</table>\n",
       "</div>"
      ],
      "text/plain": [
       "   population_en_10k  revenu_en_10k$\n",
       "0             6.1101         17.5920\n",
       "1             5.5277          9.1302\n",
       "2             8.5186         13.6620\n",
       "3             7.0032         11.8540\n",
       "4             5.8598          6.8233"
      ]
     },
     "execution_count": 53,
     "metadata": {},
     "output_type": "execute_result"
    }
   ],
   "source": [
    "df = pd.read_csv(\n",
    "    \"data/univariate_linear_regression_dataset.csv\",\n",
    "    header=None,\n",
    "    names=[\n",
    "        \"population_en_10k\",\n",
    "        \"revenu_en_10k$\"\n",
    "    ]\n",
    ")\n",
    "df.head()"
   ]
  },
  {
   "cell_type": "code",
   "execution_count": 54,
   "metadata": {},
   "outputs": [
    {
     "data": {
      "text/plain": [
       "(97, 2)"
      ]
     },
     "execution_count": 54,
     "metadata": {},
     "output_type": "execute_result"
    }
   ],
   "source": [
    "df.shape"
   ]
  },
  {
   "cell_type": "code",
   "execution_count": 56,
   "metadata": {},
   "outputs": [],
   "source": [
    "X_train = df.loc[:90, [\"population_en_10k\"]].to_numpy()\n",
    "X_test = df.loc[90:, [\"population_en_10k\"]].to_numpy()\n",
    "\n",
    "y_train = df.loc[:90, [\"revenu_en_10k$\"]].to_numpy()\n",
    "y_test = df.loc[90:, [\"revenu_en_10k$\"]].to_numpy()"
   ]
  },
  {
   "cell_type": "code",
   "execution_count": 57,
   "metadata": {},
   "outputs": [
    {
     "data": {
      "text/plain": [
       "array([[ 5.7077],\n",
       "       [ 7.6366],\n",
       "       [ 5.8707],\n",
       "       [ 5.3054],\n",
       "       [ 8.2934],\n",
       "       [13.394 ],\n",
       "       [ 5.4369]])"
      ]
     },
     "execution_count": 57,
     "metadata": {},
     "output_type": "execute_result"
    }
   ],
   "source": [
    "X_test"
   ]
  },
  {
   "cell_type": "code",
   "execution_count": 59,
   "metadata": {},
   "outputs": [
    {
     "data": {
      "text/plain": [
       "(array([-3.91621878]), array([[1.20642909]]))"
      ]
     },
     "execution_count": 59,
     "metadata": {},
     "output_type": "execute_result"
    }
   ],
   "source": [
    "from sklearn.linear_model import LinearRegression\n",
    "lin_reg_p = LinearRegression()\n",
    "lin_reg_p.fit(X_train, y_train)\n",
    "lin_reg_p.intercept_, lin_reg_p.coef_"
   ]
  },
  {
   "cell_type": "code",
   "execution_count": 60,
   "metadata": {},
   "outputs": [],
   "source": [
    "y_predict = lin_reg_p.predict(X_test)"
   ]
  },
  {
   "cell_type": "code",
   "execution_count": 61,
   "metadata": {},
   "outputs": [
    {
     "data": {
      "text/plain": [
       "(array([[ 2.96971656],\n",
       "        [ 5.29679764],\n",
       "        [ 3.16636451],\n",
       "        [ 2.48437014],\n",
       "        [ 6.08918027],\n",
       "        [12.24269252],\n",
       "        [ 2.64301556]]),\n",
       " array([[1.8451 ],\n",
       "        [4.2959 ],\n",
       "        [7.2029 ],\n",
       "        [1.9869 ],\n",
       "        [0.14454],\n",
       "        [9.0551 ],\n",
       "        [0.61705]]))"
      ]
     },
     "execution_count": 61,
     "metadata": {},
     "output_type": "execute_result"
    }
   ],
   "source": [
    "y_predict, y_test"
   ]
  },
  {
   "cell_type": "code",
   "execution_count": 65,
   "metadata": {},
   "outputs": [],
   "source": [
    "X_droite = np.array([[0], [25]])\n",
    "y_droite = lin_reg_p.predict(X_droite)"
   ]
  },
  {
   "cell_type": "code",
   "execution_count": 67,
   "metadata": {},
   "outputs": [
    {
     "name": "stderr",
     "output_type": "stream",
     "text": [
      "/tmp/ipykernel_136196/556429668.py:2: UserWarning: color is redundantly defined by the 'color' keyword argument and the fmt string \"b.\" (-> color='b'). The keyword argument will take precedence.\n",
      "  plt.plot(X_train, y_train, \"b.\", color=\"red\")\n",
      "/tmp/ipykernel_136196/556429668.py:3: UserWarning: color is redundantly defined by the 'color' keyword argument and the fmt string \"b.\" (-> color='b'). The keyword argument will take precedence.\n",
      "  plt.plot(X_test, y_test, \"b.\", color=\"blue\")\n",
      "/tmp/ipykernel_136196/556429668.py:4: UserWarning: color is redundantly defined by the 'color' keyword argument and the fmt string \"b.\" (-> color='b'). The keyword argument will take precedence.\n",
      "  plt.plot(X_test, y_predict, \"b.\", color=\"green\")\n",
      "/tmp/ipykernel_136196/556429668.py:5: UserWarning: color is redundantly defined by the 'color' keyword argument and the fmt string \"r-\" (-> color='r'). The keyword argument will take precedence.\n",
      "  plt.plot(X_droite, y_droite, \"r-\", color=\"black\")\n"
     ]
    },
    {
     "data": {
      "image/png": "[encoded data removed]",
      "text/plain": [
       "<Figure size 720x360 with 1 Axes>"
      ]
     },
     "metadata": {
      "needs_background": "light"
     },
     "output_type": "display_data"
    }
   ],
   "source": [
    "plt.figure(figsize=(10, 5))\n",
    "plt.plot(X_train, y_train, \"b.\", color=\"red\")\n",
    "plt.plot(X_test, y_test, \"b.\", color=\"blue\")\n",
    "plt.plot(X_test, y_predict, \"b.\", color=\"green\")\n",
    "plt.plot(X_droite, y_droite, \"r-\", color=\"black\")\n",
    "plt.show()"
   ]
  },
  {
   "cell_type": "code",
   "execution_count": 69,
   "metadata": {},
   "outputs": [
    {
     "data": {
      "text/plain": [
       "9.77309776327056"
      ]
     },
     "execution_count": 69,
     "metadata": {},
     "output_type": "execute_result"
    }
   ],
   "source": [
    "mse_fn(y_predict, y_test)"
   ]
  },
  {
   "cell_type": "code",
   "execution_count": 70,
   "metadata": {},
   "outputs": [
    {
     "data": {
      "text/plain": [
       "3.126195413481147"
      ]
     },
     "execution_count": 70,
     "metadata": {},
     "output_type": "execute_result"
    }
   ],
   "source": [
    "rmse_fn(y_predict, y_test)"
   ]
  },
  {
   "cell_type": "code",
   "execution_count": null,
   "metadata": {},
   "outputs": [],
   "source": []
  }
 ],
 "metadata": {
  "interpreter": {
   "hash": "31f2aee4e71d21fbe5cf8b01ff0e069b9275f58929596ceb00d14d90e3e16cd6"
  },
  "kernelspec": {
   "display_name": "Python 3.8.10 64-bit",
   "language": "python",
   "name": "python3"
  },
  "language_info": {
   "codemirror_mode": {
    "name": "ipython",
    "version": 3
   },
   "file_extension": ".py",
   "mimetype": "text/x-python",
   "name": "python",
   "nbconvert_exporter": "python",
   "pygments_lexer": "ipython3",
   "version": "3.8.10"
  },
  "orig_nbformat": 4
 },
 "nbformat": 4,
 "nbformat_minor": 2
}
